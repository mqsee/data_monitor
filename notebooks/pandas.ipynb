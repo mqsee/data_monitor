{
 "cells": [
  {
   "cell_type": "code",
   "execution_count": 1,
   "metadata": {
    "collapsed": true
   },
   "outputs": [],
   "source": [
    "import pandas as pd\n",
    "import numpy as np"
   ]
  },
  {
   "cell_type": "code",
   "execution_count": 8,
   "metadata": {
    "collapsed": true
   },
   "outputs": [],
   "source": [
    "# value = [[1,2,3,4,5],[1,3,5,3,7],[4,2,6,8,9],[5,4,3,5,4]]\n",
    "df = pd.DataFrame(np.random.randn(5,5))"
   ]
  },
  {
   "cell_type": "code",
   "execution_count": 9,
   "metadata": {
    "collapsed": false
   },
   "outputs": [
    {
     "data": {
      "text/html": [
       "<div>\n",
       "<table border=\"1\" class=\"dataframe\">\n",
       "  <thead>\n",
       "    <tr style=\"text-align: right;\">\n",
       "      <th></th>\n",
       "      <th>0</th>\n",
       "      <th>1</th>\n",
       "      <th>2</th>\n",
       "      <th>3</th>\n",
       "      <th>4</th>\n",
       "    </tr>\n",
       "  </thead>\n",
       "  <tbody>\n",
       "    <tr>\n",
       "      <th>0</th>\n",
       "      <td>-1.629069</td>\n",
       "      <td>-0.112964</td>\n",
       "      <td>0.892803</td>\n",
       "      <td>0.330544</td>\n",
       "      <td>1.619136</td>\n",
       "    </tr>\n",
       "    <tr>\n",
       "      <th>1</th>\n",
       "      <td>-0.278280</td>\n",
       "      <td>-0.198806</td>\n",
       "      <td>0.193871</td>\n",
       "      <td>-0.178526</td>\n",
       "      <td>0.162945</td>\n",
       "    </tr>\n",
       "    <tr>\n",
       "      <th>2</th>\n",
       "      <td>-2.153461</td>\n",
       "      <td>0.259565</td>\n",
       "      <td>0.655575</td>\n",
       "      <td>1.312748</td>\n",
       "      <td>0.148723</td>\n",
       "    </tr>\n",
       "    <tr>\n",
       "      <th>3</th>\n",
       "      <td>1.801729</td>\n",
       "      <td>0.497154</td>\n",
       "      <td>1.552600</td>\n",
       "      <td>0.886262</td>\n",
       "      <td>-1.234405</td>\n",
       "    </tr>\n",
       "    <tr>\n",
       "      <th>4</th>\n",
       "      <td>-1.245538</td>\n",
       "      <td>-0.657154</td>\n",
       "      <td>-0.329134</td>\n",
       "      <td>-0.261111</td>\n",
       "      <td>-1.024752</td>\n",
       "    </tr>\n",
       "  </tbody>\n",
       "</table>\n",
       "</div>"
      ],
      "text/plain": [
       "          0         1         2         3         4\n",
       "0 -1.629069 -0.112964  0.892803  0.330544  1.619136\n",
       "1 -0.278280 -0.198806  0.193871 -0.178526  0.162945\n",
       "2 -2.153461  0.259565  0.655575  1.312748  0.148723\n",
       "3  1.801729  0.497154  1.552600  0.886262 -1.234405\n",
       "4 -1.245538 -0.657154 -0.329134 -0.261111 -1.024752"
      ]
     },
     "execution_count": 9,
     "metadata": {},
     "output_type": "execute_result"
    }
   ],
   "source": [
    "df"
   ]
  },
  {
   "cell_type": "code",
   "execution_count": 24,
   "metadata": {
    "collapsed": false
   },
   "outputs": [
    {
     "data": {
      "text/html": [
       "<div>\n",
       "<table border=\"1\" class=\"dataframe\">\n",
       "  <thead>\n",
       "    <tr style=\"text-align: right;\">\n",
       "      <th></th>\n",
       "      <th>0</th>\n",
       "      <th>1</th>\n",
       "      <th>2</th>\n",
       "      <th>3</th>\n",
       "      <th>4</th>\n",
       "      <th>group</th>\n",
       "    </tr>\n",
       "  </thead>\n",
       "  <tbody>\n",
       "    <tr>\n",
       "      <th>0</th>\n",
       "      <td>-1.629069</td>\n",
       "      <td>-0.112964</td>\n",
       "      <td>0.892803</td>\n",
       "      <td>0.330544</td>\n",
       "      <td>1.619136</td>\n",
       "      <td>group1</td>\n",
       "    </tr>\n",
       "    <tr>\n",
       "      <th>1</th>\n",
       "      <td>-0.278280</td>\n",
       "      <td>-0.198806</td>\n",
       "      <td>0.193871</td>\n",
       "      <td>-0.178526</td>\n",
       "      <td>0.162945</td>\n",
       "      <td>group1</td>\n",
       "    </tr>\n",
       "    <tr>\n",
       "      <th>2</th>\n",
       "      <td>-2.153461</td>\n",
       "      <td>0.259565</td>\n",
       "      <td>0.655575</td>\n",
       "      <td>1.312748</td>\n",
       "      <td>0.148723</td>\n",
       "      <td>group2</td>\n",
       "    </tr>\n",
       "    <tr>\n",
       "      <th>3</th>\n",
       "      <td>1.801729</td>\n",
       "      <td>0.497154</td>\n",
       "      <td>1.552600</td>\n",
       "      <td>0.886262</td>\n",
       "      <td>-1.234405</td>\n",
       "      <td>group3</td>\n",
       "    </tr>\n",
       "    <tr>\n",
       "      <th>4</th>\n",
       "      <td>-1.245538</td>\n",
       "      <td>-0.657154</td>\n",
       "      <td>-0.329134</td>\n",
       "      <td>-0.261111</td>\n",
       "      <td>-1.024752</td>\n",
       "      <td>group2</td>\n",
       "    </tr>\n",
       "  </tbody>\n",
       "</table>\n",
       "</div>"
      ],
      "text/plain": [
       "          0         1         2         3         4   group\n",
       "0 -1.629069 -0.112964  0.892803  0.330544  1.619136  group1\n",
       "1 -0.278280 -0.198806  0.193871 -0.178526  0.162945  group1\n",
       "2 -2.153461  0.259565  0.655575  1.312748  0.148723  group2\n",
       "3  1.801729  0.497154  1.552600  0.886262 -1.234405  group3\n",
       "4 -1.245538 -0.657154 -0.329134 -0.261111 -1.024752  group2"
      ]
     },
     "execution_count": 24,
     "metadata": {},
     "output_type": "execute_result"
    }
   ],
   "source": [
    "df['group'] = ['group1','group1','group2','group3','group2']\n",
    "df"
   ]
  },
  {
   "cell_type": "code",
   "execution_count": 13,
   "metadata": {
    "collapsed": false
   },
   "outputs": [
    {
     "data": {
      "text/plain": [
       "group\n",
       "group1    2\n",
       "group2    2\n",
       "group3    1\n",
       "dtype: int64"
      ]
     },
     "execution_count": 13,
     "metadata": {},
     "output_type": "execute_result"
    }
   ],
   "source": [
    "df.groupby('group').size()"
   ]
  },
  {
   "cell_type": "code",
   "execution_count": 28,
   "metadata": {
    "collapsed": false
   },
   "outputs": [
    {
     "name": "stdout",
     "output_type": "stream",
     "text": [
      "<class 'pandas.core.frame.DataFrame'> \n",
      "\n",
      "<class 'pandas.core.frame.DataFrame'> \n",
      "\n",
      "<class 'pandas.core.frame.DataFrame'> \n",
      "\n"
     ]
    }
   ],
   "source": [
    "for i in df.groupby('group'):\n",
    "#     print i[0]\n",
    "    print type(i[1]),'\\n'"
   ]
  },
  {
   "cell_type": "code",
   "execution_count": 20,
   "metadata": {
    "collapsed": false
   },
   "outputs": [
    {
     "data": {
      "text/plain": [
       "0    (-2.157, -0.835]\n",
       "1     (-0.835, 0.483]\n",
       "2    (-2.157, -0.835]\n",
       "3      (0.483, 1.802]\n",
       "4    (-2.157, -0.835]\n",
       "Name: 0, dtype: category\n",
       "Categories (3, object): [(-2.157, -0.835] < (-0.835, 0.483] < (0.483, 1.802]]"
      ]
     },
     "execution_count": 20,
     "metadata": {},
     "output_type": "execute_result"
    }
   ],
   "source": [
    "pd.cut(df[0],3)"
   ]
  },
  {
   "cell_type": "code",
   "execution_count": 21,
   "metadata": {
    "collapsed": false
   },
   "outputs": [
    {
     "data": {
      "text/plain": [
       "0    [-2.153, -1.501]\n",
       "1     (-0.601, 1.802]\n",
       "2    [-2.153, -1.501]\n",
       "3     (-0.601, 1.802]\n",
       "4    (-1.501, -0.601]\n",
       "Name: 0, dtype: category\n",
       "Categories (3, object): [[-2.153, -1.501] < (-1.501, -0.601] < (-0.601, 1.802]]"
      ]
     },
     "execution_count": 21,
     "metadata": {},
     "output_type": "execute_result"
    }
   ],
   "source": [
    "pd.qcut(df[0],3)"
   ]
  },
  {
   "cell_type": "code",
   "execution_count": null,
   "metadata": {
    "collapsed": true
   },
   "outputs": [],
   "source": [
    ""
   ]
  }
 ],
 "metadata": {
  "kernelspec": {
   "display_name": "Python 2",
   "language": "python",
   "name": "python2"
  },
  "language_info": {
   "codemirror_mode": {
    "name": "ipython",
    "version": 2.0
   },
   "file_extension": ".py",
   "mimetype": "text/x-python",
   "name": "python",
   "nbconvert_exporter": "python",
   "pygments_lexer": "ipython2",
   "version": "2.7.11"
  }
 },
 "nbformat": 4,
 "nbformat_minor": 0
}